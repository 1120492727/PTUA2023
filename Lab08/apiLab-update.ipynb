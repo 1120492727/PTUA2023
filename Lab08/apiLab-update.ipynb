{
 "cells": [
  {
   "cell_type": "markdown",
   "metadata": {},
   "source": [
    "# Lecture 8: API, Online Data Extraction/Scraping by Python\n",
    "## Author: Nick Ves, UBDC Data Scientist"
   ]
  },
  {
   "cell_type": "markdown",
   "metadata": {
    "pycharm": {
     "name": "#%% md\n"
    }
   },
   "source": [
    "1.  What is an API?\n",
    "   \n",
    "    The words API stand for Application Programming Interface. Broadly speaking, is a collection of\n",
    "    functions that  usually other programs use to interact with your program, in various ways.\n",
    "\n",
    "    Users are normally shielded from the *implementation* particulars of the code are just exposed to what is important.\n",
    "\n",
    "    In Python, some modules are making use of such API, to communicate with the system they run on.\n",
    "\n",
    "    Example:\n",
    "```python\n",
    "import os\n",
    "os.getlogin()  # Return the name of the user logged in on the controlling terminal of the process\n",
    "'User'  # or YouUsername\n",
    "```\n",
    "\n",
    "   In the above example, we are intrested to get the namd of the logged user.\n",
    "\n",
    "   To do so, we import the [os](https://docs.python.org/3/library/os.html#module-os) module,\n",
    "   which in turn, calls some low-level functions to grab that name, and then make sure it returns it as a string\n",
    "   for our usage.\n",
    "\n",
    "    You were never told which functions are these, nor how they do it.\n",
    "    You are only intrested to get a string that contains that information.\n",
    "\n",
    "    That's how APIs work, they are a set of functions, that they do something,\n",
    "    and usually they return the result of their operation.\n",
    "\n",
    "1. What is Serialisation and De-Serialisation:\n",
    "\n",
    "    Serialisation (or marshaling) is the translation process, of transforming data structures, to binary format.\n",
    "    Remember when we store data into files, we actually store bytes of data.\n",
    "\n",
    "    Serialised data, can be transferred through the wire\n",
    "\n",
    "    The opposite operation, eg translating binary data to usuable data structures (like a python Dictionary Object)\n",
    "    is called deserialisation.\n",
    "\n",
    "    - You need to know, from before which methods were used to move from one state to another.\n",
    "    - Python has the pickle module that can serialise data to bytes\n",
    "\n",
    "    - The operations does not need to happen in the same system. Eg a server is transmiting serilised byte data,\n",
    "    and a client can deserialise that into data structures.\n",
    "\n",
    "    - Webservices that use the (REST) protocol the de-facto codec that these services chat with\n",
    "    is the JSON represenation. For python, JSON representation strings can be de-serilised (translated) as a python dictionary\n",
    "\n",
    "    ```python\n",
    "import json\n",
    "string = \"\"{\n",
    "    \"id\" : 1,\n",
    "    \"data\": {\"name\": \"Nikos\", \"age\": 35, \"gender\": \"male\", \"height\": 178}\n",
    "}\"\"\"\n",
    "data = json.loads(string)\n",
    "print(data)\n",
    "    ```\n",
    "    \n",
    "    \n",
    "3. What is a REST WebService?\n",
    " REST (Representational state transfer) is a protocol, which defines methods that resources can be communicated between servers.\n",
    " A REST WebService, allows users through that server  of not only get textual representation of that resource,\n",
    " but also to modify or create as needed.\n",
    "\n",
    " It uses HTTP methods like GET, POST, OPTIONS and etc that upon their completion  generate responses\n",
    " that contain data serialised using a json coded."
   ]
  },
  {
   "cell_type": "code",
   "execution_count": 1,
   "metadata": {},
   "outputs": [],
   "source": [
    "import json\n",
    "import pandas as pandas\n",
    "import requests"
   ]
  },
  {
   "cell_type": "markdown",
   "metadata": {
    "pycharm": {
     "name": "#%% md\n"
    }
   },
   "source": [
    "## Serialisation/Deserialisation"
   ]
  },
  {
   "cell_type": "code",
   "execution_count": 2,
   "metadata": {
    "pycharm": {
     "name": "#%%\n"
    }
   },
   "outputs": [
    {
     "name": "stdout",
     "output_type": "stream",
     "text": [
      "Serialising! (datastructure to bytes)\n",
      "(b'\\x80\\x04\\x95I\\x00\\x00\\x00\\x00\\x00\\x00\\x00}\\x94(\\x8c\\x02id\\x94K\\x01\\x8c\\x04d'\n",
      " b'ata\\x94}\\x94(\\x8c\\x04name\\x94\\x8c\\x05Nikos\\x94\\x8c\\x03age\\x94K#\\x8c\\x06gend'\n",
      " b'er\\x94\\x8c\\x04male\\x94\\x8c\\x06height\\x94K\\xb2uu.')\n",
      "<class 'bytes'>\n",
      "De-serialised! (bytes to datastructure)\n",
      "{'data': {'age': 35, 'gender': 'male', 'height': 178, 'name': 'Nikos'}, 'id': 1}\n",
      "<class 'dict'>\n",
      "Serialised!  (datastructure to bytes)\n",
      "('{\"id\": 1, \"data\": {\"name\": \"Nikos\", \"age\": 35, \"gender\": \"male\", \"height\": '\n",
      " '178}}')\n",
      "<class 'str'>\n",
      "De-serialised!  (datastructure to bytes)\n",
      "{'data': {'age': 35, 'gender': 'male', 'height': 178, 'name': 'Nikos'}, 'id': 1}\n",
      "<class 'dict'>\n"
     ]
    }
   ],
   "source": [
    "import json\n",
    "import pickle\n",
    "from pprint import pprint\n",
    "\n",
    "# THIS IS NOT A JSON, THIS IS A PYTHON DICTIONARY OBJECT. \n",
    "# IT LOOKS LIKE A JSON BECAUSE IT WAS DESIGNED TO LOOK LIKE ONE.\n",
    "data = {\"id\": 1, \"data\": {\"name\": \"Nikos\", \"age\": 35, \"gender\": \"male\", \"height\": 178}}\n",
    "\n",
    "# Serialise\n",
    "# using the pickle protocol\n",
    "d = pickle.dumps(data)\n",
    "\n",
    "print('Serialising! (datastructure to bytes)')\n",
    "pprint(d)\n",
    "pprint(type(d))\n",
    "\n",
    "print('De-serialised! (bytes to datastructure)')\n",
    "obj = pickle.loads(d)\n",
    "pprint(obj)\n",
    "pprint(type(obj))\n",
    "\n",
    "# using the json protocol\n",
    "d = json.dumps(data)\n",
    "print('Serialised!  (datastructure to bytes)')\n",
    "pprint(d)\n",
    "pprint(type(d))\n",
    "\n",
    "print('De-serialised!  (datastructure to bytes)')\n",
    "obj = json.loads(d)\n",
    "pprint(obj)\n",
    "pprint(type(obj))\n",
    "\n"
   ]
  },
  {
   "cell_type": "markdown",
   "metadata": {
    "pycharm": {
     "is_executing": true,
     "name": "#%% md\n"
    }
   },
   "source": [
    "##### Different methods to `print`"
   ]
  },
  {
   "cell_type": "code",
   "execution_count": 3,
   "metadata": {
    "pycharm": {
     "name": "#%%\n"
    }
   },
   "outputs": [
    {
     "name": "stdout",
     "output_type": "stream",
     "text": [
      "{'age': 35, 'gender': 'male', 'height': 178, 'name': 'Nikos'}\n",
      "<class 'dict'>\n",
      "this is the key: Nikos\n",
      "\tvalue: Nikos\n",
      "\tthis is the key: Nikos\n",
      "\tthis is the key: Nikos\n",
      "\tKey: NAME has value: Nikos\n",
      "this is the key: 35\n",
      "\tvalue: 35\n",
      "\tthis is the key: 35\n",
      "\tthis is the key: 35\n",
      "\tKey: AGE has value: 35\n",
      "this is the key: male\n",
      "\tvalue: male\n",
      "\tthis is the key: male\n",
      "\tthis is the key: male\n",
      "\tKey: GENDER has value: male\n",
      "this is the key: 178\n",
      "\tvalue: 178\n",
      "\tthis is the key: 178\n",
      "\tthis is the key: 178\n",
      "\tKey: HEIGHT has value: 178\n"
     ]
    }
   ],
   "source": [
    "payload = {\"id\": 1, \"data\": {\"name\": \"Nikos\", \"age\": 35, \"gender\": \"male\", \"height\": 178}}\n",
    "data = payload['data']\n",
    "pprint(data)\n",
    "print(type(data))\n",
    "for key, value in data.items():\n",
    "    # some different ways you can interpolate values inside a string\n",
    "    print('this is the key: %s' % value)\n",
    "    print('\\tvalue: {0}'.format(value))\n",
    "    print('\\tthis is the key: {value}'.format(value=value))\n",
    "\n",
    "    # using f-strings the convenient by far. (from python 3.6 and onwards?)\n",
    "    print(f'\\tthis is the key: {value}')\n",
    "\n",
    "    # I use the *f expresions* to interpolate the variables in the string Templates.\n",
    "    print(f\"\\tKey: {key.upper()} has value: {value}\")\n"
   ]
  },
  {
   "cell_type": "markdown",
   "metadata": {},
   "source": [
    "## The Request Package\n",
    "\n",
    "To communicate with a remote server, _theoretically_ you don't need anything as Python comes with a complete set of modules that can do that.\n",
    "You could do it. But you will never do it, as it's too complex, as it's designed to provide\n",
    "the framework and  support for other libraries/tools to build upon\n",
    "\n",
    "Instead you will be using a popular python package\n",
    "called '[Requests](https://requests.readthedocs.io/en/master/)'  which has managed to become a standard tool.\n",
    "\n",
    "> Requests\n",
    "> A 'higher' level python package that helps to send HTTP/1.1 requests.\n",
    "It's build around pythons build-in 'lower' level web libraries.\n",
    "\n",
    "```bash\n",
    "# To install it:\n",
    "$ pip install requests\n",
    "```\n",
    "\n",
    "And it's usage it's pretty  more straightforward:\n",
    "\n",
    "```python\n",
    "# Fetching Chuck Norris Jokes from the Internet Chuck Noris Database.\n",
    "# http://www.icndb.com/api/\n",
    "\n",
    "import requests\n",
    "# Create a Response object from that URL\n",
    "r = requests.get('http://api.icndb.com/jokes/random?limitTo=[nerdy]')\n",
    "\n",
    "# the Response Object contains the ..response of the server. It's accesible from the .raw\n",
    "\n",
    "# Parse the data to a dictionary with the .json() function available\n",
    "data = r.json()\n",
    "print('{joke}'.format(joke=data['value']['joke']))\n",
    "# Chuck Norris types with one finger. He points it at the keyboard and the keyboard does the rest.\n",
    "\n",
    "```"
   ]
  },
  {
   "cell_type": "code",
   "execution_count": 4,
   "metadata": {
    "pycharm": {
     "name": "#%%\n"
    }
   },
   "outputs": [
    {
     "name": "stdout",
     "output_type": "stream",
     "text": [
      "\n",
      "Chuck Norris doesn't need a debugger, he just stares down the bug until the code confesses.\n",
      "\n"
     ]
    }
   ],
   "source": [
    "import requests\n",
    "\n",
    "# Create a Request object from that URL\n",
    "response = requests.get('http://api.icndb.com/jokes/random?limitTo=[nerdy]')\n",
    "# Parse the data to a dictionary with the .json() function available\n",
    "data = response.json()\n",
    "print('\\n{joke}\\n'.format(joke=data['value']['joke']))\n",
    "# Chuck Norris types with one finger. He points it at the keyboard and the keyboard does the rest."
   ]
  },
  {
   "cell_type": "code",
   "execution_count": 5,
   "metadata": {},
   "outputs": [
    {
     "data": {
      "text/plain": [
       "200"
      ]
     },
     "execution_count": 5,
     "metadata": {},
     "output_type": "execute_result"
    }
   ],
   "source": [
    "response.status_code"
   ]
  },
  {
   "cell_type": "code",
   "execution_count": 6,
   "metadata": {
    "pycharm": {
     "name": "#%%\n"
    }
   },
   "outputs": [
    {
     "data": {
      "text/plain": [
       "b'{ \"type\": \"success\", \"value\": { \"id\": 476, \"joke\": \"Chuck Norris doesn\\'t need a debugger, he just stares down the bug until the code confesses.\", \"categories\": [\"nerdy\"] } }'"
      ]
     },
     "execution_count": 6,
     "metadata": {},
     "output_type": "execute_result"
    }
   ],
   "source": [
    "# Serialised state. Not much we can do with the data like that\n",
    "response.content"
   ]
  },
  {
   "cell_type": "code",
   "execution_count": 7,
   "metadata": {
    "pycharm": {
     "name": "#%%\n"
    }
   },
   "outputs": [
    {
     "data": {
      "text/plain": [
       "'{ \"type\": \"success\", \"value\": { \"id\": 476, \"joke\": \"Chuck Norris doesn\\'t need a debugger, he just stares down the bug until the code confesses.\", \"categories\": [\"nerdy\"] } }'"
      ]
     },
     "execution_count": 7,
     "metadata": {},
     "output_type": "execute_result"
    }
   ],
   "source": [
    "# Let's desialose that the previous state. We will use a toString codec, which it will produce a regular string\n",
    "response.text"
   ]
  },
  {
   "cell_type": "code",
   "execution_count": 8,
   "metadata": {
    "pycharm": {
     "name": "#%%\n"
    }
   },
   "outputs": [
    {
     "name": "stdout",
     "output_type": "stream",
     "text": [
      "{'type': 'success',\n",
      " 'value': {'categories': ['nerdy'],\n",
      "           'id': 476,\n",
      "           'joke': \"Chuck Norris doesn't need a debugger, he just stares down \"\n",
      "                   'the bug until the code confesses.'}}\n"
     ]
    }
   ],
   "source": [
    "# Data coming from endpoints, are 99 of the times are following a well know known schema. That means we can\n",
    "# use the desialised string, to a json deserialer to generate a pyton dict\n",
    "import json\n",
    "\n",
    "d = json.loads(response.text)\n",
    "pprint(d)"
   ]
  },
  {
   "cell_type": "code",
   "execution_count": 9,
   "metadata": {
    "pycharm": {
     "name": "#%%\n"
    }
   },
   "outputs": [
    {
     "data": {
      "text/plain": [
       "{'type': 'success',\n",
       " 'value': {'id': 476,\n",
       "  'joke': \"Chuck Norris doesn't need a debugger, he just stares down the bug until the code confesses.\",\n",
       "  'categories': ['nerdy']}}"
      ]
     },
     "execution_count": 9,
     "metadata": {},
     "output_type": "execute_result"
    }
   ],
   "source": [
    "#In Fact this two operations are so\n",
    "\n",
    "\n",
    "response.json()"
   ]
  },
  {
   "cell_type": "code",
   "execution_count": 10,
   "metadata": {},
   "outputs": [
    {
     "name": "stdout",
     "output_type": "stream",
     "text": [
      "{'type': 'success',\n",
      " 'value': {'categories': ['nerdy'],\n",
      "           'id': 476,\n",
      "           'joke': \"Chuck Norris doesn't need a debugger, he just stares down \"\n",
      "                   'the bug until the code confesses.'}}\n"
     ]
    }
   ],
   "source": [
    "import pprint\n",
    "\n",
    "pprint.pprint(response.json())"
   ]
  },
  {
   "cell_type": "code",
   "execution_count": 11,
   "metadata": {
    "pycharm": {
     "name": "#%%\n"
    }
   },
   "outputs": [
    {
     "name": "stdout",
     "output_type": "stream",
     "text": [
      "{ \"type\": \"success\", \"value\": { \"id\": 439, \"joke\": \"Chuck Norris can kick through all 6 degrees of separation, hitting anyone, anywhere, in the face, at any time.\", \"categories\": [] } }\n",
      "<class 'str'>\n",
      "\n",
      "<class 'dict'>\n",
      "{'type': 'success',\n",
      " 'value': {'categories': [],\n",
      "           'id': 439,\n",
      "           'joke': 'Chuck Norris can kick through all 6 degrees of separation, '\n",
      "                   'hitting anyone, anywhere, in the face, at any time.'}}\n",
      "Chuck Norris can kick through all 6 degrees of separation, hitting anyone, anywhere, in the face, at any time.\n"
     ]
    }
   ],
   "source": [
    "# Example: \n",
    "# Get some information from an end point: \n",
    "\n",
    "import requests\n",
    "import pprint  #  pretty print\n",
    "\n",
    "res = requests.get('http://api.icndb.com/jokes/random')\n",
    "\n",
    "print(res.text)\n",
    "print(type(res.text))\n",
    "print()\n",
    "d = res.json()  # parse the response to a dictionary. \n",
    "print(type(d))\n",
    "pprint.pprint(d)\n",
    "\n",
    "# if you want to access somethign inside a dictionary, you can traverse to using it's key:\n",
    "value = d['value']\n",
    "joke = value['joke']\n",
    "print(joke)"
   ]
  },
  {
   "cell_type": "markdown",
   "metadata": {
    "pycharm": {
     "name": "#%% md\n"
    }
   },
   "source": [
    "A rest api is dynamic in nature.\n",
    " \n",
    "That means that the server can identify parameters \n",
    "that the client (you, or your program) is sending to him as part of your request. \n",
    "\n",
    "The server then can act on these parameters.\n",
    "\n",
    "Usually the provider, provide some kind of documentation, \n",
    "which they have catalogued the name of the parameters, their types and their meaning. \n"
   ]
  },
  {
   "cell_type": "code",
   "execution_count": 12,
   "metadata": {
    "pycharm": {
     "name": "#%%\n"
    }
   },
   "outputs": [
    {
     "name": "stdout",
     "output_type": "stream",
     "text": [
      "0: Only Chuck Norris can prevent forest fires.\n",
      "1: Chuck Norris doesn't read books. He stares them down until he gets the information he wants.\n",
      "2: A Chuck Norris-delivered Roundhouse Kick is the preferred method of execution in 16 states.\n",
      "3: All arrays Chuck Norris declares are of infinite size, because Chuck Norris knows no bounds.\n",
      "4: Chuck Norris can dereference NULL.\n",
      "5: What many people dont know is Chuck Norris is the founder of planned parenthood. Not even unborn children can escape his wrath.\n"
     ]
    }
   ],
   "source": [
    "# Parameter Example\n",
    "# Documentation about this API: \n",
    "# http://www.icndb.com/api/\n",
    "\n",
    "import requests\n",
    "\n",
    "# that API also supports returning multiple jokes at once.\n",
    "# .../jokes/random/<number_of_jokes>\n",
    "\n",
    "r = requests.get('http://api.icndb.com/jokes/random/6')\n",
    "data = r.json()\n",
    "\n",
    "for idx, joke_entry in enumerate(data['value']):\n",
    "    print('{idx}: {joke}'.format(idx=idx, joke=joke_entry['joke']))\n"
   ]
  },
  {
   "cell_type": "code",
   "execution_count": 13,
   "metadata": {},
   "outputs": [
    {
     "name": "stdout",
     "output_type": "stream",
     "text": [
      "[{'categories': [],\n",
      "  'id': 396,\n",
      "  'joke': 'Only Chuck Norris can prevent forest fires.'},\n",
      " {'categories': [],\n",
      "  'id': 3,\n",
      "  'joke': \"Chuck Norris doesn't read books. He stares them down until he gets \"\n",
      "          'the information he wants.'},\n",
      " {'categories': [],\n",
      "  'id': 67,\n",
      "  'joke': 'A Chuck Norris-delivered Roundhouse Kick is the preferred method of '\n",
      "          'execution in 16 states.'},\n",
      " {'categories': ['nerdy'],\n",
      "  'id': 449,\n",
      "  'joke': 'All arrays Chuck Norris declares are of infinite size, because '\n",
      "          'Chuck Norris knows no bounds.'},\n",
      " {'categories': ['nerdy'],\n",
      "  'id': 530,\n",
      "  'joke': 'Chuck Norris can dereference NULL.'},\n",
      " {'categories': [],\n",
      "  'id': 332,\n",
      "  'joke': 'What many people dont know is Chuck Norris is the founder of '\n",
      "          'planned parenthood. Not even unborn children can escape his wrath.'}]\n"
     ]
    }
   ],
   "source": [
    "from pprint import pprint\n",
    "\n",
    "pprint(data['value'])"
   ]
  },
  {
   "cell_type": "code",
   "execution_count": 14,
   "metadata": {
    "pycharm": {
     "name": "#%% \n"
    }
   },
   "outputs": [
    {
     "name": "stdout",
     "output_type": "stream",
     "text": [
      "1: For Chuck Norris, NP-Hard = O(1).\n",
      "2: Chuck Norris can install a 64 bit OS on 32 bit machines.\n",
      "3: Every SQL statement that Chuck Norris codes has an implicit &quot;COMMIT&quot; in its end.\n",
      "4: The class object inherits from Chuck Norris\n"
     ]
    }
   ],
   "source": [
    "# Also he also declares that we can limit the jokes to a certain category:\n",
    "r = requests.get('http://api.icndb.com/jokes/random/4?limitTo=[nerdy]')\n",
    "data = r.json()\n",
    "\n",
    "# enumerate is a 'build-in' python function to help you, \n",
    "# instead of writing the (idx =1 ... idx = idx + 1) pattern\n",
    "for idx, joke_entry in enumerate(data['value'], 1):\n",
    "    print('{idx}: {joke}'.format(idx=idx, joke=joke_entry['joke']))\n"
   ]
  },
  {
   "cell_type": "markdown",
   "metadata": {
    "pycharm": {
     "name": "#%% md\n"
    }
   },
   "source": [
    "Obviously, there is a lot of repetition, so when that is happening it is always \n",
    "it is always a good idea not to repeat yourself, by generalising. \n",
    "In this case, we can construct a function does all the  steps:\n"
   ]
  },
  {
   "cell_type": "code",
   "execution_count": 15,
   "metadata": {
    "pycharm": {
     "name": "#%%\n"
    }
   },
   "outputs": [],
   "source": [
    "import requests\n",
    "\n",
    "\n",
    "def get_jokes(how_many=2, nerdy_only=True, verbose=False):\n",
    "    \"\"\" Get a number of jokes from the Internet Chuck Norris Database. \n",
    "    Returns a list of Dictionaries. \n",
    "    Will raise an exception if if the server cannot complete our request \"\"\"\n",
    "    request_url = 'http://api.icndb.com/jokes/random/'\n",
    "    if int(how_many) > 0:\n",
    "        request_url += str(how_many)\n",
    "    if nerdy_only:\n",
    "        request_url += '?limitTo=[nerdy]'\n",
    "    if verbose:\n",
    "        print(request_url)\n",
    "    r = requests.get(request_url)\n",
    "    r.raise_for_status()\n",
    "\n",
    "    return r.json()['value']"
   ]
  },
  {
   "cell_type": "code",
   "execution_count": 16,
   "metadata": {
    "pycharm": {
     "name": "#%%\n"
    }
   },
   "outputs": [
    {
     "name": "stdout",
     "output_type": "stream",
     "text": [
      "http://api.icndb.com/jokes/random/2?limitTo=[nerdy]\n"
     ]
    },
    {
     "data": {
      "text/plain": [
       "[{'id': 536,\n",
       "  'joke': \"Don't worry about tests, Chuck Norris's test cases cover your code too.\",\n",
       "  'categories': ['nerdy']},\n",
       " {'id': 481,\n",
       "  'joke': 'For Chuck Norris, NP-Hard = O(1).',\n",
       "  'categories': ['nerdy']}]"
      ]
     },
     "execution_count": 16,
     "metadata": {},
     "output_type": "execute_result"
    }
   ],
   "source": [
    "get_jokes(how_many=2, nerdy_only=True, verbose=True)"
   ]
  },
  {
   "cell_type": "code",
   "execution_count": 17,
   "metadata": {},
   "outputs": [
    {
     "data": {
      "text/plain": [
       "200"
      ]
     },
     "execution_count": 17,
     "metadata": {},
     "output_type": "execute_result"
    }
   ],
   "source": [
    "# We must _always_ check the status code of the response. \n",
    "# The responose_code (status_code) tells you what had happened at it. \n",
    "# There are 5 general categories\n",
    "# between 100 and 199 -> Infrormation codes\n",
    "# between 200 and 299 -> Success codes (yay we want one of them)\n",
    "# between 300 and 399 -> Redirection (watch out. requests follow redirects automatically. maybe not true for other packages)\n",
    "# between 400 and 499 -> Fail (your problem)\n",
    "# between 500 and 599 -> Fail (servers problem)\n",
    "# https://developer.mozilla.org/en-US/docs/Web/HTTP/Status\n",
    "# \n",
    "\n",
    "r.status_code\n"
   ]
  },
  {
   "cell_type": "code",
   "execution_count": 18,
   "metadata": {
    "pycharm": {
     "name": "#%%\n"
    }
   },
   "outputs": [
    {
     "name": "stdout",
     "output_type": "stream",
     "text": [
      "1. Chuck Norris once rode a bull, and nine months later it had a calf.\n",
      "2. July 4th is Independence day. And the day Chuck Norris was born. Coincidence? I think not.\n",
      "3. Chuck Norris doesn't do Burn Down charts, he does Smack Down charts.\n",
      "4. Chuck Norris can taste lies.\n",
      "5. Once you go Norris, you are physically unable to go back.\n"
     ]
    }
   ],
   "source": [
    "jokes = get_jokes(5, nerdy_only=False)\n",
    "for idx, joke in enumerate(jokes, 1):\n",
    "    print(idx, joke['joke'], sep='. ')"
   ]
  },
  {
   "cell_type": "markdown",
   "metadata": {},
   "source": [
    "## CCTV Data.\n"
   ]
  },
  {
   "cell_type": "markdown",
   "metadata": {
    "pycharm": {
     "name": "#%% md\n"
    }
   },
   "source": [
    "UBDC is using images from cctv cameras located around Glasgow to fuel a ML model trained to extract various object from them.\n",
    "Results can be accessed through a web app that contains two API endpoints. One for the counts and another one listing the available locations\n",
    "\n",
    "Results: `https://pglab.ubdc.ac.uk/counts/`\n",
    "Locations: `https://pglab.ubdc.ac.uk/locations/`\n",
    "Documentation/Overview: `https://pglab.ubdc.ac.uk/docs/`"
   ]
  },
  {
   "cell_type": "code",
   "execution_count": 19,
   "metadata": {
    "pycharm": {
     "name": "#%%\n"
    }
   },
   "outputs": [],
   "source": [
    "import pandas as pd\n",
    "from datetime import datetime, timedelta\n",
    "import matplotlib.pyplot as plt  # Make subsequent  any plots a little bigger\n",
    "\n",
    "plt.rcParams[\"figure.dpi\"] = 125\n",
    "\n",
    "endpoint = 'https://pglab.ubdc.ac.uk/counts/'"
   ]
  },
  {
   "cell_type": "code",
   "execution_count": 20,
   "metadata": {
    "pycharm": {
     "name": "#%%\n"
    }
   },
   "outputs": [],
   "source": [
    "# Get the data\n",
    "\n",
    "def get_dataframe_for_location(location, start_date, days=5):\n",
    "    if days > 7:\n",
    "        raise ValueError('Days must be less than 7')\n",
    "\n",
    "    params = dict()\n",
    "    date_format = '%d/%m/%Y'\n",
    "    _start_date = datetime.strptime(start_date, date_format)\n",
    "    params['locations'] = location\n",
    "    params['page_size'] = 500\n",
    "    params['date_range_after'] = _start_date.strftime(date_format)\n",
    "    params['date_range_before'] = (_start_date + timedelta(days=days)).strftime(date_format)\n",
    "    # print(params)\n",
    "\n",
    "    dataFrame = None\n",
    "    next_page = endpoint\n",
    "    page_number = 0\n",
    "    response = requests.get(\n",
    "            url=next_page,\n",
    "            params=params\n",
    "        )\n",
    "    data = response.json()\n",
    "    number_of_results = data['count']\n",
    "    next_page = data['next']\n",
    "\n",
    "    result_df = None\n",
    "    if number_of_results > 0:\n",
    "        result_df = pd.DataFrame.from_records(data=data['results'], index='id')\n",
    "        result_df['timestamp'] = pd.to_datetime(result_df.timestamp)\n",
    "        result_df['totalCount'] = result_df.apply(\n",
    "                lambda row: row.cars + row.buses + row.persons + row.trucks + row.bicycles + row.motorcycles, 1)\n",
    "\n",
    "\n",
    "    while next_page:\n",
    "        page_number += 1\n",
    "        response = requests.get(url=next_page,)\n",
    "        if not 200 <= response.status_code < 299:\n",
    "\n",
    "            raise Exception('Return code was not in the 200 range. Instead it was %d' %  response.status_code)\n",
    "        data = response.json()\n",
    "        number_of_results = data['count']\n",
    "        next_page = data['next']\n",
    "        if number_of_results > 0:\n",
    "            tmp_df = pd.DataFrame.from_records(data=data['results'], index='id')\n",
    "            tmp_df['timestamp'] = pd.to_datetime(tmp_df.timestamp)\n",
    "            tmp_df['totalCount'] = tmp_df.apply(\n",
    "                lambda row: row.cars + row.buses + row.persons + row.trucks + row.bicycles + row.motorcycles, 1)\n",
    "            result_df = pd.concat([result_df, tmp_df])\n",
    "\n",
    "    return result_df\n",
    "\n",
    "\n",
    "df = get_dataframe_for_location(\"Argyle_St_@_Jamaica_St\", start_date='6/6/2020', days=7)"
   ]
  },
  {
   "cell_type": "code",
   "execution_count": 21,
   "metadata": {
    "pycharm": {
     "name": "#%%\n"
    }
   },
   "outputs": [
    {
     "data": {
      "text/plain": [
       "<AxesSubplot:xlabel='timestamp'>"
      ]
     },
     "execution_count": 21,
     "metadata": {},
     "output_type": "execute_result"
    },
    {
     "data": {
      "image/png": "[encoded data removed]",
      "text/plain": [
       "<Figure size 750x500 with 1 Axes>"
      ]
     },
     "metadata": {
      "needs_background": "light"
     },
     "output_type": "display_data"
    }
   ],
   "source": [
    "df.plot(x='timestamp', y='totalCount')"
   ]
  },
  {
   "cell_type": "markdown",
   "metadata": {},
   "source": [
    "### Hmm, the data seem to have a seasonal aspect. During day the day, more 'objects' were counted. The opposite, is happening during the night.\n",
    "\n",
    "This effect is called seasonality, and can be seen in many datasets that observe a variable over time through multiple periods.\n",
    "\n",
    "Like airplane tickets or hotel bookings. During holiday periods you would expect higher sales, and during offseasons less sales. But what's the trent? How fast the buisness is growing? (or shringing?) That's harder to see."
   ]
  },
  {
   "cell_type": "markdown",
   "metadata": {},
   "source": [
    "In the recent years, timeseries analysis libraries have been developed for Python. One of the many functions provided by these libraries\n",
    "is their ability to decompose (=decomposing break down into its elements. In the case of a timeserie,\n",
    "the core elements are: trent, seasonality, and noise.) These elements, can be used then for further data insights.\n",
    "\n",
    "> ! please before you try youself, be at least familiar with statists lingo and with core Python, Pandas, Numpy Packages.\n",
    "\n",
    "Using these libraries, and a well defined, dataset, it's very easy to perform these functions, which can give us some insights regarding\n",
    "the nature of the element that we are observing.\n",
    "\n",
    "Be careful though, although it is seems easy, to do a TS analysis, it has many moving elements, which makes it hard to interpeter.\n",
    "The `statsmodels` library, is a Python library, that has a primary focus to provide, statistical models for data analysis.\n",
    "Among its other submodules that provides, it has a clean timeSeries analysis API, suitable for our needs.\n",
    "\n",
    "> https://www.statsmodels.org/stable/generated/statsmodels.tsa.seasonal.seasonal_decompose.html\n",
    "\n",
    "```bash\n",
    "# install statsmodel\n",
    "$ pip install statsmodel\n",
    "```"
   ]
  },
  {
   "cell_type": "code",
   "execution_count": 22,
   "metadata": {
    "collapsed": false,
    "jupyter": {
     "outputs_hidden": false
    },
    "pycharm": {
     "name": "#%%\n"
    }
   },
   "outputs": [
    {
     "name": "stderr",
     "output_type": "stream",
     "text": [
      "<ipython-input-22-903cdb5e68a7>:6: SettingWithCopyWarning: \n",
      "A value is trying to be set on a copy of a slice from a DataFrame.\n",
      "Try using .loc[row_indexer,col_indexer] = value instead\n",
      "\n",
      "See the caveats in the documentation: https://pandas.pydata.org/pandas-docs/stable/user_guide/indexing.html#returning-a-view-versus-a-copy\n",
      "  df2['timestamp'] = pd.DatetimeIndex(df2.timestamp)\n"
     ]
    },
    {
     "data": {
      "image/png": "[encoded data removed]",
      "text/plain": [
       "<Figure size 750x500 with 4 Axes>"
      ]
     },
     "metadata": {
      "needs_background": "light"
     },
     "output_type": "display_data"
    }
   ],
   "source": [
    "import statsmodels.api as sm\n",
    "\n",
    "# Dataframe `df` comes from previous cells\n",
    "\n",
    "df2 = df[['timestamp', 'totalCount']]\n",
    "df2['timestamp'] = pd.DatetimeIndex(df2.timestamp)\n",
    "df2.set_index('timestamp', drop=True, inplace=True)\n",
    "\n",
    "#  resample by, hour\n",
    "# https://pandas.pydata.org/pandas-docs/stable/reference/api/pandas.Series.resample.html\n",
    "df3 = df2.resample('H').sum()\n",
    "\n",
    "# decompose the timeseries to its elements using a naive model:\n",
    "# https://www.statsmodels.org/stable/generated/statsmodels.tsa.seasonal.seasonal_decompose.html\n",
    "decomposition = sm.tsa.seasonal_decompose(df3, model='additive')\n",
    "\n",
    "# and plot.\n",
    "fig = decomposition.plot()"
   ]
  },
  {
   "cell_type": "markdown",
   "metadata": {
    "pycharm": {
     "name": "#%% md\n"
    }
   },
   "source": [
    "Timeseries of the observed values are f(t) = Trend(t) + Seasonality(t) + Error(t)\n",
    "The rule of thumb to see if a model is performing adequate, is to examine the errors' chart: They should be as close to zero as possible.\n"
   ]
  },
  {
   "cell_type": "markdown",
   "metadata": {
    "pycharm": {
     "name": "#%% md\n"
    }
   },
   "source": [
    "## Let's make an App\n",
    "\n",
    "Let's make something more useful now:\n",
    "\n",
    "    A small app, that shows for each location, how busy was the location for a range of days.\n",
    "    Our app, will contain widgets (visual tools) to enable some level of interactivity, between the user and the system.\n",
    "\n",
    "    The widgets are marely, tools to help you define parametres in a visual way. All the logic is happening\n",
    "    with the same tools that we discussed before."
   ]
  },
  {
   "cell_type": "code",
   "execution_count": 23,
   "metadata": {
    "pycharm": {
     "name": "#%%\n"
    }
   },
   "outputs": [],
   "source": [
    "from datetime import date\n",
    "from datetime import timedelta\n",
    "\n",
    "# https://ipywidgets.readthedocs.io/en/stable/index.html\n",
    "from ipywidgets import interactive\n",
    "import ipywidgets as widgets\n",
    "import pandas as pd\n",
    "\n",
    "from IPython.display import display\n",
    "import statsmodels.api as sm\n",
    "import requests\n"
   ]
  },
  {
   "cell_type": "code",
   "execution_count": 24,
   "metadata": {
    "pycharm": {
     "name": "#%%\n"
    }
   },
   "outputs": [],
   "source": [
    "LOCATIONS = sorted(\n",
    "    {\"Argyle_St_@_Brown_St\",\n",
    "     \"Argyle_St_@_Jamaica_St\",\n",
    "     \"Argyle_St_@_Oswald_St\",\n",
    "     \"Argyle_St_@_Oswald_St(static)\",\n",
    "     \"Bellahouston_Park\",\n",
    "     \"Bellahouston_Park_pathway_near_PRW_gate\",\n",
    "     \"Broomielaw_@_James_Watt_St_(cam1)\",\n",
    "     \"Broomielaw_@_James_Watt_St_(cam2)\",\n",
    "     \"Broomielaw_Rear_of_Casino\",\n",
    "     \"Broomielaw_@_Washington_St\",\n",
    "     \"Byres_Rd_@_Dowanside_St\",\n",
    "     \"Clyde_Walkway_@_Dixon_St\",\n",
    "     \"Clyde_Walkway_@_Jamaica_St\",\n",
    "     \"Clyde_walkway_@_McAlpine\",\n",
    "     \"Clyde_Walkway_@_Stockwell_St\",\n",
    "     \"Duke_St_@_Bellgrove\",\n",
    "     \"Finnieston_Bridge_@_Lancefield_Quay\",\n",
    "     \"Gallowgate_@_High_St(cam1)\",\n",
    "     \"Gallowgate_@_High_St(cam2)\",\n",
    "     \"George_Sq_@_South_Hanover_St\",\n",
    "     \"Glasgow_Green_Circles\",\n",
    "     \"Glasgow_Green_Doulton_Fountain\",\n",
    "     \"Glasgow_Green_monument\",\n",
    "     \"Glasgow_Green_Path\",\n",
    "     \"Glasgow_Green_suspension_walkway\",\n",
    "     \"Gordon_St_@_Renfield_St\",\n",
    "     \"High_St_@_George_St\",\n",
    "     \"Hope_St_@_Gordon_Street\",\n",
    "     \"Hope_St_@_Waterloo_St\",\n",
    "     \"Kelvingrove_Park_entrance\",\n",
    "     \"Kelvingrove_Park_fountain\",\n",
    "     \"Kelvingrove_Park_Kelvin_Way\",\n",
    "     \"Kelvingrove_Park_overview\",\n",
    "     \"Killermont_St_@_Royal_Concert_Hall\",\n",
    "     \"Maryhill_Forth_Clyde_Canal\",\n",
    "     \"Maryhill_Rd_@_Shakespeare_St\",\n",
    "     \"Sauchiehall_St_@_Pitt_St\",\n",
    "     \"Tollcross_Park(cam1)\",\n",
    "     \"Tollcross_Park(cam2)\",\n",
    "     \"Victoria_Rd_@_Allison_St\"\n",
    "     }\n",
    ")\n",
    "\n",
    "def f(location=..., start_date=..., days=...):\n",
    "    # it's the same code from above\n",
    "    def get_dataframe_for_location(location, start_date, days):\n",
    "        if days > 7:\n",
    "            raise ValueError('Days must be less than 7')\n",
    "\n",
    "        params = dict()\n",
    "        date_format = '%d/%m/%Y'\n",
    "        _start_date = datetime.strptime(start_date, date_format)\n",
    "        params['locations'] = location\n",
    "        params['start_date'] = _start_date.strftime(date_format)\n",
    "        params['end_date'] = (_start_date + timedelta(days=days)).strftime(date_format)\n",
    "        # print(params)\n",
    "\n",
    "        dataFrame = None\n",
    "        next_page = endpoint\n",
    "        page_number = 0\n",
    "        while next_page:\n",
    "            page_number += 1\n",
    "            response = requests.get(\n",
    "                url=next_page,\n",
    "                params=params\n",
    "            )\n",
    "            assert 200 <= response.status_code <= 299\n",
    "            data = response.json()\n",
    "            number_of_results = data['count']\n",
    "            next_page = data['next']\n",
    "            if number_of_results > 0:\n",
    "                tmp_df = pd.DataFrame.from_records(data=data['results'], index='id')\n",
    "                tmp_df['timestamp'] = pd.to_datetime(tmp_df.timestamp)\n",
    "                tmp_df['totalCount'] = tmp_df.apply(\n",
    "                    lambda row: row.cars + row.buses + row.persons + row.trucks + row.bicycles + row.motorcycles, 1)\n",
    "\n",
    "                if dataFrame is None:\n",
    "                    dataFrame = tmp_df\n",
    "                else:\n",
    "                    dataFrame = pd.concat([dataFrame, tmp_df])\n",
    "\n",
    "        return dataFrame\n",
    "\n",
    "    df = get_dataframe_for_location(location=location, start_date=start_date, days=days)\n",
    "\n",
    "    #\n",
    "    df['timestamp'] = pd.DatetimeIndex(df.timestamp)\n",
    "    df.set_index('timestamp', inplace=True)\n",
    "\n",
    "    #  resampple by hour\n",
    "    df2 = df[['totalCount']]\n",
    "    df2 = df2.resample('H').sum()\n",
    "\n",
    "    # https://www.statsmodels.org/stable/generated/statsmodels.tsa.seasonal.seasonal_decompose.html\n",
    "    # decompose the timeseries to its elements using a naive model:\n",
    "    decomposition = sm.tsa.seasonal_decompose(df2, model='additive')\n",
    "\n",
    "    # and plot them to see the elements\n",
    "    fig = decomposition.plot()\n"
   ]
  },
  {
   "cell_type": "code",
   "execution_count": 25,
   "metadata": {
    "pycharm": {
     "name": "#%%\n"
    }
   },
   "outputs": [],
   "source": [
    "# a widget is a reusable component. Like a button, a dial a dropdown menu; anything\n",
    "\n",
    "LOCATIONS_WIDGET = widgets.Dropdown(\n",
    "    description=\"Target Camera\",\n",
    "    options=LOCATIONS)\n",
    "DATE_WIDGET = widgets.DatePicker(\n",
    "    description=\"Date of Interest\",\n",
    "    value=date(2020, 6, 6)\n",
    ")\n",
    "\n",
    "RANGE_WIDGET = widgets.IntSlider(\n",
    "    value=5, min=1, max=14,\n",
    "    description='days from Target Date'\n",
    ")\n",
    "\n",
    "\n",
    "def app(location=LOCATIONS_WIDGET, start_date=DATE_WIDGET, days=RANGE_WIDGET):\n",
    "    start_date = start_date.strftime('%d/%m/%Y')\n",
    "    f(location, start_date=start_date, days=days)\n"
   ]
  },
  {
   "cell_type": "code",
   "execution_count": 26,
   "metadata": {
    "pycharm": {
     "name": "#%%\n"
    }
   },
   "outputs": [
    {
     "data": {
      "application/vnd.jupyter.widget-view+json": {
       "model_id": "b4f5ab0d5f5246a79def95568916060a",
       "version_major": 2,
       "version_minor": 0
      },
      "text/plain": [
       "interactive(children=(Dropdown(description='Target Camera', options=('Argyle_St_@_Brown_St', 'Argyle_St_@_Jama…"
      ]
     },
     "metadata": {},
     "output_type": "display_data"
    }
   ],
   "source": [
    "# MAKE IT SO\n",
    "w = interactive(app, {'manual': True, 'manual_name': 'MAKE IT SO'})\n",
    "display(w)"
   ]
  },
  {
   "cell_type": "code",
   "execution_count": 55,
   "metadata": {},
   "outputs": [],
   "source": []
  }
 ],
 "metadata": {
  "kernelspec": {
   "display_name": "Python 3",
   "language": "python",
   "name": "python3"
  },
  "language_info": {
   "codemirror_mode": {
    "name": "ipython",
    "version": 3
   },
   "file_extension": ".py",
   "mimetype": "text/x-python",
   "name": "python",
   "nbconvert_exporter": "python",
   "pygments_lexer": "ipython3",
   "version": "3.8.8"
  }
 },
 "nbformat": 4,
 "nbformat_minor": 4
}
